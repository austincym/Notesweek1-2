{
  "nbformat": 4,
  "nbformat_minor": 0,
  "metadata": {
    "colab": {
      "provenance": [],
      "authorship_tag": "ABX9TyMfR0FqUaW5CBD2ZnTroceq",
      "include_colab_link": true
    },
    "kernelspec": {
      "name": "python3",
      "display_name": "Python 3"
    },
    "language_info": {
      "name": "python"
    }
  },
  "cells": [
    {
      "cell_type": "markdown",
      "metadata": {
        "id": "view-in-github",
        "colab_type": "text"
      },
      "source": [
        "<a href=\"https://colab.research.google.com/github/austincym/Notesweek1-2/blob/main/week_2.ipynb\" target=\"_parent\"><img src=\"https://colab.research.google.com/assets/colab-badge.svg\" alt=\"Open In Colab\"/></a>"
      ]
    },
    {
      "cell_type": "code",
      "execution_count": null,
      "metadata": {
        "id": "lD5g1wLpAK20"
      },
      "outputs": [],
      "source": [
        "# Generate and display 2x2 matrices\n",
        "matrices = generate_binary_matrices(2)\n",
        "display_matrices(matrices, \"2x2 Binary Matrices\")"
      ]
    },
    {
      "cell_type": "code",
      "source": [
        "# Generate and display first n of 3x3 matrices\n",
        "matrices = generate_binary_matrices(3)\n",
        "display_matrices(matrices[:16], \"First 16 of 3x3 Binary Matrices\")"
      ],
      "metadata": {
        "id": "uTZ1NG0tANbv"
      },
      "execution_count": null,
      "outputs": []
    },
    {
      "cell_type": "code",
      "source": [
        "# Generate and display first n of 4x4 matrices\n",
        "matrices = generate_binary_matrices(4)\n",
        "display_matrices(matrices[:16], \"First 16 of 4x4 Binary Matrices\")"
      ],
      "metadata": {
        "id": "9OcdyiO4AQ4X"
      },
      "execution_count": null,
      "outputs": []
    },
    {
      "cell_type": "code",
      "source": [
        "# Binary image\n",
        "binary_image = np.array([\n",
        "    [0, 1, 0],\n",
        "    [1, 1, 1],\n",
        "    [0, 1, 0]\n",
        "])"
      ],
      "metadata": {
        "id": "uTTgOpz7AbMZ"
      },
      "execution_count": null,
      "outputs": []
    },
    {
      "cell_type": "code",
      "source": [
        "binary_image"
      ],
      "metadata": {
        "id": "fbIWOUJmAe2B"
      },
      "execution_count": null,
      "outputs": []
    },
    {
      "cell_type": "code",
      "source": [
        "plt.imshow(binary_image, cmap='gray')"
      ],
      "metadata": {
        "id": "oZqt83xuAfZY"
      },
      "execution_count": null,
      "outputs": []
    },
    {
      "cell_type": "code",
      "source": [
        "# Grayscale image\n",
        "grayscale_image = np.array([\n",
        "    [50, 100, 150],\n",
        "    [200, 255, 200],\n",
        "    [150, 100, 50]\n",
        "])\n",
        "plt.imshow(grayscale_image, cmap='gray', vmin=0, vmax=255)"
      ],
      "metadata": {
        "id": "aKahzGN-AjBb"
      },
      "execution_count": null,
      "outputs": []
    },
    {
      "cell_type": "code",
      "source": [
        "# RGB image\n",
        "rgb_image = np.array([\n",
        "    [[255, 0, 0], [0, 255, 0], [0, 0, 255]],\n",
        "    [[255, 255, 0], [0, 255, 255], [255, 0, 255]],\n",
        "    [[128, 128, 128], [255, 255, 255], [0, 0, 0]]\n",
        "])"
      ],
      "metadata": {
        "id": "K0jWcz-cAr9o"
      },
      "execution_count": null,
      "outputs": []
    },
    {
      "cell_type": "code",
      "source": [
        "rgb_image"
      ],
      "metadata": {
        "id": "OHXYeZQ_Au62"
      },
      "execution_count": null,
      "outputs": []
    },
    {
      "cell_type": "code",
      "source": [
        "plt.imshow(rgb_image)"
      ],
      "metadata": {
        "id": "AReVlhNSAxQL"
      },
      "execution_count": null,
      "outputs": []
    }
  ]
}