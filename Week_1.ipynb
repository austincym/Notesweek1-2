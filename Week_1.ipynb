{
  "nbformat": 4,
  "nbformat_minor": 0,
  "metadata": {
    "colab": {
      "provenance": [],
      "authorship_tag": "ABX9TyMi9Ekk+49ZaqbalSJ1VcLn",
      "include_colab_link": true
    },
    "kernelspec": {
      "name": "python3",
      "display_name": "Python 3"
    },
    "language_info": {
      "name": "python"
    }
  },
  "cells": [
    {
      "cell_type": "markdown",
      "metadata": {
        "id": "view-in-github",
        "colab_type": "text"
      },
      "source": [
        "<a href=\"https://colab.research.google.com/github/austincym/Notesweek1-2/blob/main/Week_1.ipynb\" target=\"_parent\"><img src=\"https://colab.research.google.com/assets/colab-badge.svg\" alt=\"Open In Colab\"/></a>"
      ]
    },
    {
      "cell_type": "code",
      "execution_count": null,
      "metadata": {
        "id": "o5ibTjJaMZt0"
      },
      "outputs": [],
      "source": [
        "Binary Images\n",
        "A binary image is one where each pixel can be either black (0) or white (1). If you have an image of size  𝑚×𝑛 , then it's represented as an  𝑚×𝑛  matrix with each entry being 0 or 1.\n",
        "\n",
        "[ ]\n",
        "2**9 #Binary 3x3"
      ]
    },
    {
      "cell_type": "code",
      "source": [
        "Grayscale Images\n",
        "Grayscale images have more depth than binary images. Each pixel in a grayscale image can take a value between 0 (black) and 255 (white). Each pixel in a grayscale image is typically represented using 8 bits.\n",
        "\n",
        "[ ]\n",
        "256**9 #Grayscale 3x3"
      ],
      "metadata": {
        "id": "cIVNVJU7Md6c"
      },
      "execution_count": null,
      "outputs": []
    },
    {
      "cell_type": "code",
      "source": [
        "2.3 RGB Images\n",
        "Color images are usually represented in the RGB format. Each pixel has three values corresponding to the Red, Green, and Blue channels. Each channel can take a value between 0 and 255. Therefore, a pixel in an RGB image requires\n",
        "3×8=24\n",
        "bits.\n",
        "\n",
        "[ ]\n",
        "256**3 # Number of colors in 24 bit number"
      ],
      "metadata": {
        "id": "cLvlf303Mhei"
      },
      "execution_count": null,
      "outputs": []
    },
    {
      "cell_type": "code",
      "source": [
        "# @title Binary\n",
        "\n",
        "import matplotlib.pyplot as plt\n",
        "import matplotlib.patches as patches\n",
        "\n",
        "def plot_binary(num):\n",
        "    # Convert number to binary and pad with zeros to make it 4 bits long\n",
        "    bin_str = format(num, '04b')\n",
        "\n",
        "    # Create a new figure and axis\n",
        "    fig, ax = plt.subplots(figsize=(5, 0.7))\n",
        "    ax.set_xlim(0, 4)\n",
        "    ax.set_ylim(0, 1)\n",
        "\n",
        "    # Remove axis labels and ticks\n",
        "    ax.axis('off')\n",
        "\n",
        "    # For each bit in the binary string, plot a filled or empty square\n",
        "    for i, bit in enumerate(bin_str):\n",
        "        color = 'gray' if bit == '1' else 'white'\n",
        "        rect = patches.Rectangle((i, 0), 1, 1, facecolor=color, edgecolor='blue', linewidth=1.5)\n",
        "        ax.add_patch(rect)\n",
        "\n",
        "\n",
        "    # Add decimal representation to the title\n",
        "    ax.set_title(f\" Decimal: {num} = Binary: {bin_str}\")\n",
        "\n",
        "    # Show the plot\n",
        "    plt.show()"
      ],
      "metadata": {
        "id": "A7W0krB1MzBU"
      },
      "execution_count": null,
      "outputs": []
    },
    {
      "cell_type": "code",
      "source": [
        "# Plot binary representations for numbers 0 to 15\n",
        "for i in range(16):\n",
        "    plot_binary(i)"
      ],
      "metadata": {
        "id": "D_dN1ba6M58U"
      },
      "execution_count": null,
      "outputs": []
    }
  ]
}