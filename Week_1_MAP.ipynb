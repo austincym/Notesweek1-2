{
  "nbformat": 4,
  "nbformat_minor": 0,
  "metadata": {
    "colab": {
      "provenance": [],
      "authorship_tag": "ABX9TyN595gtY9eCQkcIuNPap5ur",
      "include_colab_link": true
    },
    "kernelspec": {
      "name": "python3",
      "display_name": "Python 3"
    },
    "language_info": {
      "name": "python"
    }
  },
  "cells": [
    {
      "cell_type": "markdown",
      "metadata": {
        "id": "view-in-github",
        "colab_type": "text"
      },
      "source": [
        "<a href=\"https://colab.research.google.com/github/austincym/Notesweek1-2/blob/main/Week_1_MAP.ipynb\" target=\"_parent\"><img src=\"https://colab.research.google.com/assets/colab-badge.svg\" alt=\"Open In Colab\"/></a>"
      ]
    },
    {
      "cell_type": "code",
      "execution_count": null,
      "metadata": {
        "id": "A1OuS626IGkX"
      },
      "outputs": [],
      "source": [
        "# How to import from google slides URL\n",
        "%%capture\n",
        "!apt-get install poppler-utils\n",
        "!pip install pdf2image\n",
        "from pdf2image import convert_from_path\n",
        "import requests\n",
        "import matplotlib.pyplot as plt\n",
        "import numpy as np\n",
        "from skimage.io import imread\n",
        "from skimage.transform import resize\n"
      ]
    },
    {
      "cell_type": "code",
      "source": [
        "# How to import image from URL\n",
        "url = 'https://upload.wikimedia.org/wikipedia/commons/thumb/d/da/Claude_Monet%2C_Saint-Georges_majeur_au_cr%C3%A9puscule.jpg/800px-Claude_Monet%2C_Saint-Georges_majeur_au_cr%C3%A9puscule.jpg'\n",
        "im = imread(url)\n",
        "plt.imshow(im);\n",
        "im = resize(im,(512,512))\n",
        "plt.imshow(im);"
      ],
      "metadata": {
        "id": "-LSkDhUFIQCe"
      },
      "execution_count": null,
      "outputs": []
    },
    {
      "cell_type": "code",
      "source": [
        "# Display original, grayscale, and RGB images\n",
        "display_image(np.array(image), 'Original Image')\n",
        "display_image(np.array(gray_image), 'Grayscale (8-bit)', 'gray')\n",
        "display_image(np.array(rgb_image), 'RGB (8-bit)')"
      ],
      "metadata": {
        "id": "Vxq9RZOYIj32"
      },
      "execution_count": null,
      "outputs": []
    },
    {
      "cell_type": "code",
      "source": [],
      "metadata": {
        "id": "PDOe9JKKIr95"
      },
      "execution_count": null,
      "outputs": []
    }
  ]
}