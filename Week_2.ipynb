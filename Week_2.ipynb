{
  "nbformat": 4,
  "nbformat_minor": 0,
  "metadata": {
    "colab": {
      "provenance": [],
      "authorship_tag": "ABX9TyP2Zpa4b/L5w9niSyNcGzRz",
      "include_colab_link": true
    },
    "kernelspec": {
      "name": "python3",
      "display_name": "Python 3"
    },
    "language_info": {
      "name": "python"
    }
  },
  "cells": [
    {
      "cell_type": "markdown",
      "metadata": {
        "id": "view-in-github",
        "colab_type": "text"
      },
      "source": [
        "<a href=\"https://colab.research.google.com/github/austincym/Notesweek1-2/blob/main/Week_2.ipynb\" target=\"_parent\"><img src=\"https://colab.research.google.com/assets/colab-badge.svg\" alt=\"Open In Colab\"/></a>"
      ]
    },
    {
      "cell_type": "code",
      "execution_count": null,
      "metadata": {
        "id": "FK39f_g8BlPM"
      },
      "outputs": [],
      "source": [
        "# Plotting\n",
        "x = np.zeros((2,2,3))\n",
        "x[:,:,0] = 1\n",
        "x[:,:,2] = 1\n",
        "plt.imshow(x)"
      ]
    },
    {
      "cell_type": "code",
      "source": [
        "# Example with decimals\n",
        "x = np.zeros((2,2,3))\n",
        "x[:,:,0] = 0.5\n",
        "x[:,:,1] = 0.5\n",
        "x[:,:,2] = 0.5\n",
        "plt.imshow(x)"
      ],
      "metadata": {
        "id": "I8XWGhJhBmLD"
      },
      "execution_count": null,
      "outputs": []
    },
    {
      "cell_type": "code",
      "source": [
        "r = np.random.rand()\n",
        "g = np.random.rand()\n",
        "b = np.random.rand()\n",
        "\n",
        "\n",
        "x = np.zeros((2,2,3))\n",
        "\n",
        "x[:,:,0] = r\n",
        "x[:,:,1] = g\n",
        "x[:,:,2] = b\n",
        "\n",
        "\n",
        "plt.imshow(x)"
      ],
      "metadata": {
        "id": "FaZLW1iNB212"
      },
      "execution_count": null,
      "outputs": []
    },
    {
      "cell_type": "code",
      "source": [
        "for i in range(5):\n",
        "\n",
        "    z = np.ones((10,10,3))\n",
        "\n",
        "    r = np.random.rand()\n",
        "    g = np.random.rand()\n",
        "    b = np.random.rand()\n",
        "\n",
        "    print(r,g,b)\n",
        "\n",
        "    z[:,:,0] = r\n",
        "    z[:,:,1] = g\n",
        "    z[:,:,2] = b\n",
        "\n",
        "    plt.imshow(z);\n",
        "    plt.show()"
      ],
      "metadata": {
        "id": "_cI9atwNB6Vo"
      },
      "execution_count": null,
      "outputs": []
    },
    {
      "cell_type": "code",
      "source": [
        "import matplotlib.pyplot as plt\n",
        "import numpy as np\n",
        "import base64\n",
        "from io import BytesIO\n",
        "\n",
        "# Function to convert the plot into a base64 string\n",
        "def plot_to_base64():\n",
        "    buf = BytesIO()\n",
        "    plt.savefig(buf, format=\"png\", bbox_inches='tight', pad_inches=0.1)\n",
        "    plt.close()\n",
        "    return base64.b64encode(buf.getvalue()).decode('utf-8')\n",
        "\n",
        "# 1. Generate the plots and convert to Base64\n",
        "x = np.linspace(0, 10, 100)\n",
        "\n",
        "# Simple Line Plot\n",
        "plt.plot(x, np.sin(x), label=\"sin(x)\")\n",
        "plt.plot(x, np.cos(x), label=\"cos(x)\")\n",
        "img_b64_1 = plot_to_base64()\n",
        "\n",
        "# Scatter Plot\n",
        "plt.scatter(x, np.random.randn(100), color='red')\n",
        "img_b64_2 = plot_to_base64()\n",
        "\n",
        "# Histogram\n",
        "plt.hist(np.random.randn(1000), bins=30, color='blue')\n",
        "img_b64_3 = plot_to_base64()\n",
        "\n",
        "# Bar Plot\n",
        "labels = [\"A\", \"B\", \"C\", \"D\"]\n",
        "values = [10, 20, 15, 30]\n",
        "plt.bar(labels, values, color='green')\n",
        "img_b64_4 = plot_to_base64()\n",
        "\n",
        "# 2. Generate the HTML content using f-strings\n",
        "page = f\"\"\"\n",
        "<!DOCTYPE html>\n",
        "<html>\n",
        "<head><title>Matplotlib Examples</title></head>\n",
        "<body>\n",
        "    <img src=\"data:image/png;base64,{img_b64_1}\" alt=\"Line Plot\" width=\"400\">\n",
        "    <img src=\"data:image/png;base64,{img_b64_2}\" alt=\"Scatter Plot\" width=\"400\">\n",
        "    <img src=\"data:image/png;base64,{img_b64_3}\" alt=\"Histogram\" width=\"400\">\n",
        "    <img src=\"data:image/png;base64,{img_b64_4}\" alt=\"Bar Plot\" width=\"400\">\n",
        "</body>\n",
        "</html>\n",
        "\"\"\"\n",
        "\n",
        "# 3. Save the generated HTML content to a file\n",
        "print(page, file=open(\"page_b64.html\", 'w'))\n"
      ],
      "metadata": {
        "id": "4zRp1ldyCMuG"
      },
      "execution_count": null,
      "outputs": []
    },
    {
      "cell_type": "code",
      "source": [
        "display(HTML(page))"
      ],
      "metadata": {
        "id": "mKHnmrM-COFe"
      },
      "execution_count": null,
      "outputs": []
    }
  ]
}